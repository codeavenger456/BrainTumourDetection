{
  "nbformat": 4,
  "nbformat_minor": 0,
  "metadata": {
    "colab": {
      "name": "tumour_detection",
      "provenance": [],
      "authorship_tag": "ABX9TyNasjXLgzd6ImNX8rrxbhCB",
      "include_colab_link": true
    },
    "kernelspec": {
      "name": "python3",
      "display_name": "Python 3"
    }
  },
  "cells": [
    {
      "cell_type": "markdown",
      "metadata": {
        "id": "view-in-github",
        "colab_type": "text"
      },
      "source": [
        "<a href=\"https://colab.research.google.com/github/codeavenger456/BrainTumourDetection/blob/main/tumour_detection.ipynb\" target=\"_parent\"><img src=\"https://colab.research.google.com/assets/colab-badge.svg\" alt=\"Open In Colab\"/></a>"
      ]
    },
    {
      "cell_type": "code",
      "metadata": {
        "id": "1XePbqg0emx4",
        "outputId": "62e9bfcd-a811-4387-d477-0f106350980c",
        "colab": {
          "base_uri": "https://localhost:8080/"
        }
      },
      "source": [
        "from google.colab import drive\n",
        "drive.mount('/content/drive/')"
      ],
      "execution_count": 4,
      "outputs": [
        {
          "output_type": "stream",
          "text": [
            "Mounted at /content/drive/\n"
          ],
          "name": "stdout"
        }
      ]
    },
    {
      "cell_type": "code",
      "metadata": {
        "id": "88hQ00wXe62i",
        "outputId": "0c91c835-31dd-4be1-8a92-23c6614898e4",
        "colab": {
          "base_uri": "https://localhost:8080/"
        }
      },
      "source": [
        "!ls \"/content/drive/My Drive/MAIS\""
      ],
      "execution_count": 5,
      "outputs": [
        {
          "output_type": "stream",
          "text": [
            "dataset1  dataset2  dataset3  modelCNN.h5\n"
          ],
          "name": "stdout"
        }
      ]
    },
    {
      "cell_type": "code",
      "metadata": {
        "id": "dukpzQOiUTKT"
      },
      "source": [
        "import os\n",
        "path = './drive/My Drive/MAIS/'\n",
        "entries = os.listdir('./drive/My Drive/MAIS/')\n",
        "images = []\n",
        "for i in entries:\n",
        "  if \"dataset\" in i:\n",
        "    for j in os.listdir(path + i):\n",
        "      for k in os.listdir(path + i + \"/\" + j):\n",
        "        images.append(path + i + \"/\" + j + \"/\" + k)"
      ],
      "execution_count": 6,
      "outputs": []
    },
    {
      "cell_type": "code",
      "metadata": {
        "id": "EKrNAFCicXFP"
      },
      "source": [
        "from sklearn.model_selection import train_test_split\n",
        "import numpy as np\n",
        "import random\n",
        "from tensorflow.keras import models, layers, optimizers\n",
        "import matplotlib.pyplot as plt\n",
        "import cv2"
      ],
      "execution_count": 7,
      "outputs": []
    },
    {
      "cell_type": "code",
      "metadata": {
        "id": "PwzykgkqcnVZ"
      },
      "source": [
        "nrows = 400  # height of image\n",
        "ncolumns = 300  # width of image\n",
        "channels = 1  # grayscale\n",
        "proportion = 0.8  # 80% of the dataset is training data"
      ],
      "execution_count": 8,
      "outputs": []
    },
    {
      "cell_type": "code",
      "metadata": {
        "id": "1BkwcDw5I1KF"
      },
      "source": [
        "def generate(original):\n",
        "  gen = list()\n",
        "  for i in range(-1, 2):\n",
        "    gen.append(cv2.flip(original, i))\n",
        "  #gen.append(cv2.rotate(original, cv2.ROTATE_90_CLOCKWISE))\n",
        "  gen.append(cv2.rotate(original, cv2.ROTATE_180))\n",
        "  #gen.append(cv2.rotate(original, cv2.ROTATE_90_COUNTERCLOCKWISE))\n",
        "  return gen"
      ],
      "execution_count": 9,
      "outputs": []
    },
    {
      "cell_type": "code",
      "metadata": {
        "id": "aoK0QJg_do5y"
      },
      "source": [
        "def read_and_resize_image(list_of_images, train):\n",
        "    # convert list of path to pair of array of grayscale and array of reponses\n",
        "    X = list()\n",
        "    y = list()\n",
        "    for image in list_of_images:\n",
        "        im = cv2.imread(image, cv2.IMREAD_GRAYSCALE)\n",
        "        height = im.shape[0]\n",
        "        if height > nrows:\n",
        "            # if original image height is bigger than we make it smaller\n",
        "            resize = cv2.resize(im, (ncolumns, nrows), interpolation=cv2.INTER_CUBIC) \n",
        "        else:\n",
        "            # else we make it bigger\n",
        "            resize = cv2.resize(im, (ncolumns, nrows), interpolation=cv2.INTER_AREA)\n",
        "        X.append(resize)\n",
        "        if 'yes' in image:\n",
        "            y.append(1)\n",
        "        else:\n",
        "          y.append(0)\n",
        "          if train:\n",
        "            augmented = generate(resize)\n",
        "            for i in range(len(augmented)):\n",
        "              X.append(augmented[i])\n",
        "              y.append(0)\n",
        "    return X, y"
      ],
      "execution_count": 10,
      "outputs": []
    },
    {
      "cell_type": "code",
      "metadata": {
        "id": "xK9FzwQidr67"
      },
      "source": [
        "random.shuffle(images)\n",
        "images_train = images[:int(len(images) * proportion)]\n",
        "images_test = images[int(len(images) * proportion):]"
      ],
      "execution_count": 11,
      "outputs": []
    },
    {
      "cell_type": "code",
      "metadata": {
        "id": "WEpnk_AteGhX"
      },
      "source": [
        "train_X, train_y = read_and_resize_image(images_train, True)\n",
        "X_train, X_val, y_train, y_val = train_test_split(train_X, train_y, test_size=0.20, random_state=2)# separate 20% of training data to validation set\n",
        "\n",
        "X_train = np.expand_dims(X_train, axis=-1)\n",
        "y_train = np.asarray(y_train)\n",
        "X_val = np.expand_dims(X_val, axis=-1)\n",
        "y_val = np.asarray(y_val)\n",
        "np.reshape(X_train, (len(X_train), nrows, ncolumns, 1))\n",
        "\n",
        "test_X, test_y = read_and_resize_image(images_test, False)\n",
        "test_X = np.array(test_X).astype(np.float32)\n",
        "test_X = np.expand_dims(test_X, axis=-1)"
      ],
      "execution_count": 12,
      "outputs": []
    },
    {
      "cell_type": "code",
      "metadata": {
        "id": "fDtswPmbjSBl",
        "outputId": "b4628e36-d1ca-492a-9b5e-c67736efef2e",
        "colab": {
          "base_uri": "https://localhost:8080/"
        }
      },
      "source": [
        "input_shape = X_train.shape[1:]\n",
        "model = models.Sequential()\n",
        "model.add(layers.Conv2D(32, (3, 3), activation='relu', input_shape=input_shape))\n",
        "model.add(layers.MaxPooling2D((2, 2)))\n",
        "model.add(layers.Conv2D(64, (3, 3), activation='relu'))\n",
        "model.add(layers.MaxPooling2D((2, 2)))\n",
        "model.add(layers.Conv2D(128, (3, 3), activation='relu'))\n",
        "model.add(layers.MaxPooling2D((2, 2)))\n",
        "model.add(layers.Conv2D(128, (3, 3), activation='relu'))\n",
        "model.add(layers.MaxPooling2D((2, 2)))\n",
        "model.add(layers.Flatten())\n",
        "model.add(layers.Dropout(0.5))\n",
        "model.add(layers.Dense(512, activation='relu'))\n",
        "model.add(layers.Dense(1, activation='sigmoid'))\n",
        "model.summary()"
      ],
      "execution_count": 13,
      "outputs": [
        {
          "output_type": "stream",
          "text": [
            "Model: \"sequential\"\n",
            "_________________________________________________________________\n",
            "Layer (type)                 Output Shape              Param #   \n",
            "=================================================================\n",
            "conv2d (Conv2D)              (None, 398, 298, 32)      320       \n",
            "_________________________________________________________________\n",
            "max_pooling2d (MaxPooling2D) (None, 199, 149, 32)      0         \n",
            "_________________________________________________________________\n",
            "conv2d_1 (Conv2D)            (None, 197, 147, 64)      18496     \n",
            "_________________________________________________________________\n",
            "max_pooling2d_1 (MaxPooling2 (None, 98, 73, 64)        0         \n",
            "_________________________________________________________________\n",
            "conv2d_2 (Conv2D)            (None, 96, 71, 128)       73856     \n",
            "_________________________________________________________________\n",
            "max_pooling2d_2 (MaxPooling2 (None, 48, 35, 128)       0         \n",
            "_________________________________________________________________\n",
            "conv2d_3 (Conv2D)            (None, 46, 33, 128)       147584    \n",
            "_________________________________________________________________\n",
            "max_pooling2d_3 (MaxPooling2 (None, 23, 16, 128)       0         \n",
            "_________________________________________________________________\n",
            "flatten (Flatten)            (None, 47104)             0         \n",
            "_________________________________________________________________\n",
            "dropout (Dropout)            (None, 47104)             0         \n",
            "_________________________________________________________________\n",
            "dense (Dense)                (None, 512)               24117760  \n",
            "_________________________________________________________________\n",
            "dense_1 (Dense)              (None, 1)                 513       \n",
            "=================================================================\n",
            "Total params: 24,358,529\n",
            "Trainable params: 24,358,529\n",
            "Non-trainable params: 0\n",
            "_________________________________________________________________\n"
          ],
          "name": "stdout"
        }
      ]
    },
    {
      "cell_type": "code",
      "metadata": {
        "id": "WhhbZlIRja0O",
        "outputId": "b9f9c157-1679-4983-b3ea-e398912a1cd0",
        "colab": {
          "base_uri": "https://localhost:8080/"
        }
      },
      "source": [
        "model.compile(loss='binary_crossentropy', optimizer=optimizers.Adam(),\n",
        "              metrics=['accuracy'])\n",
        "history = model.fit(X_train, y_train, epochs=4,\n",
        "                    validation_data=(X_val, y_val))"
      ],
      "execution_count": 32,
      "outputs": [
        {
          "output_type": "stream",
          "text": [
            "Epoch 1/4\n",
            "38/38 [==============================] - 283s 7s/step - loss: 15.6616 - accuracy: 0.5970 - val_loss: 0.5593 - val_accuracy: 0.7000\n",
            "Epoch 2/4\n",
            "38/38 [==============================] - 286s 8s/step - loss: 0.5459 - accuracy: 0.7258 - val_loss: 0.5112 - val_accuracy: 0.7400\n",
            "Epoch 3/4\n",
            "38/38 [==============================] - 279s 7s/step - loss: 0.4560 - accuracy: 0.7860 - val_loss: 0.3933 - val_accuracy: 0.7933\n",
            "Epoch 4/4\n",
            "38/38 [==============================] - 281s 7s/step - loss: 0.4856 - accuracy: 0.7508 - val_loss: 0.5225 - val_accuracy: 0.6800\n"
          ],
          "name": "stdout"
        }
      ]
    },
    {
      "cell_type": "code",
      "metadata": {
        "id": "GTsov2I7rzvf",
        "outputId": "d250ddf6-8252-48a3-d357-42077416122d",
        "colab": {
          "base_uri": "https://localhost:8080/",
          "height": 280
        }
      },
      "source": [
        "plt.plot(history.history[\"accuracy\"], label=\"accuracy\")\n",
        "plt.plot(history.history[\"val_accuracy\"], label=\"val_accuracy\")\n",
        "plt.xlabel('Epoch')\n",
        "plt.ylabel('Accuracy')\n",
        "plt.legend(loc='lower right')\n",
        "plt.show()"
      ],
      "execution_count": 33,
      "outputs": [
        {
          "output_type": "display_data",
          "data": {
            "image/png": "[encoded data removed]",
            "text/plain": [
              "<Figure size 432x288 with 1 Axes>"
            ]
          },
          "metadata": {
            "tags": [],
            "needs_background": "light"
          }
        }
      ]
    },
    {
      "cell_type": "code",
      "metadata": {
        "id": "MFgF35qrsazB"
      },
      "source": [
        "y_predict = model.predict_classes(test_X)\n",
        "y_predict = y_predict.T[0].tolist()"
      ],
      "execution_count": 34,
      "outputs": []
    },
    {
      "cell_type": "code",
      "metadata": {
        "id": "Gcm--ZhWsmP-",
        "outputId": "84af0de6-890d-41ca-b3f3-e80666553653",
        "colab": {
          "base_uri": "https://localhost:8080/"
        }
      },
      "source": [
        "true_positive = 0\n",
        "false_positive = 0\n",
        "true_negative = 0\n",
        "false_negative = 0\n",
        "for i, j in zip(y_predict, test_y):\n",
        "  if i and j:\n",
        "    true_positive += 1\n",
        "  elif i and not j:\n",
        "    false_positive += 1\n",
        "  elif not i and j:\n",
        "    false_negative += 1\n",
        "  else:\n",
        "    true_negative += 1\n",
        "true_positive /= len(y_predict)\n",
        "false_positive /= len(y_predict)\n",
        "false_negative /= len(y_predict)\n",
        "true_negative /= len(y_predict)\n",
        "print(true_positive, false_negative, false_positive, true_negative)"
      ],
      "execution_count": 35,
      "outputs": [
        {
          "output_type": "stream",
          "text": [
            "0.8348214285714286 0.0 0.16071428571428573 0.004464285714285714\n"
          ],
          "name": "stdout"
        }
      ]
    },
    {
      "cell_type": "code",
      "metadata": {
        "id": "yoQqanFoLVgS"
      },
      "source": [
        "model.save_weights(\"/content/drive/My Drive/MAIS/modelCNN.h5\")"
      ],
      "execution_count": 37,
      "outputs": []
    },
    {
      "cell_type": "code",
      "metadata": {
        "id": "tqGjm7w5lAfp",
        "outputId": "08cfbc2a-3f19-454b-cfa7-5d3f1d8e6569",
        "colab": {
          "base_uri": "https://localhost:8080/"
        }
      },
      "source": [
        "import tensorflow as tf\n",
        "model.compile(loss='binary_crossentropy', optimizer=optimizers.Adam(),\n",
        "              metrics=[tf.keras.metrics.FalsePositives()])\n",
        "history = model.fit(X_train, y_train, epochs=50,\n",
        "                    validation_data=(X_val, y_val))"
      ],
      "execution_count": 14,
      "outputs": [
        {
          "output_type": "stream",
          "text": [
            "Epoch 1/50\n",
            "37/37 [==============================] - 271s 7s/step - loss: 27.4527 - false_positives: 204.0000 - val_loss: 0.5062 - val_false_positives: 11.0000\n",
            "Epoch 2/50\n",
            "37/37 [==============================] - 270s 7s/step - loss: 0.5027 - false_positives: 123.0000 - val_loss: 0.4765 - val_false_positives: 15.0000\n",
            "Epoch 3/50\n",
            "37/37 [==============================] - 269s 7s/step - loss: 0.4547 - false_positives: 119.0000 - val_loss: 0.4504 - val_false_positives: 12.0000\n",
            "Epoch 4/50\n",
            "37/37 [==============================] - 269s 7s/step - loss: 0.4337 - false_positives: 109.0000 - val_loss: 0.4394 - val_false_positives: 38.0000\n",
            "Epoch 5/50\n",
            "37/37 [==============================] - 269s 7s/step - loss: 0.4128 - false_positives: 103.0000 - val_loss: 0.3903 - val_false_positives: 23.0000\n",
            "Epoch 6/50\n",
            "37/37 [==============================] - 269s 7s/step - loss: 0.3580 - false_positives: 112.0000 - val_loss: 0.4459 - val_false_positives: 5.0000\n",
            "Epoch 7/50\n",
            "37/37 [==============================] - 269s 7s/step - loss: 0.3449 - false_positives: 87.0000 - val_loss: 0.3888 - val_false_positives: 23.0000\n",
            "Epoch 8/50\n",
            "37/37 [==============================] - 269s 7s/step - loss: 0.3108 - false_positives: 88.0000 - val_loss: 0.3444 - val_false_positives: 10.0000\n",
            "Epoch 9/50\n",
            "37/37 [==============================] - 270s 7s/step - loss: 0.2817 - false_positives: 72.0000 - val_loss: 0.3363 - val_false_positives: 22.0000\n",
            "Epoch 10/50\n",
            "37/37 [==============================] - 270s 7s/step - loss: 0.3069 - false_positives: 88.0000 - val_loss: 0.3258 - val_false_positives: 37.0000\n",
            "Epoch 11/50\n",
            "37/37 [==============================] - 269s 7s/step - loss: 0.2594 - false_positives: 83.0000 - val_loss: 0.3097 - val_false_positives: 35.0000\n",
            "Epoch 12/50\n",
            "37/37 [==============================] - 271s 7s/step - loss: 0.2106 - false_positives: 61.0000 - val_loss: 0.3434 - val_false_positives: 22.0000\n",
            "Epoch 13/50\n",
            "37/37 [==============================] - 269s 7s/step - loss: 0.2250 - false_positives: 48.0000 - val_loss: 0.3596 - val_false_positives: 27.0000\n",
            "Epoch 14/50\n",
            "37/37 [==============================] - 269s 7s/step - loss: 0.2022 - false_positives: 55.0000 - val_loss: 0.4156 - val_false_positives: 8.0000\n",
            "Epoch 15/50\n",
            "37/37 [==============================] - 270s 7s/step - loss: 0.1996 - false_positives: 55.0000 - val_loss: 0.3325 - val_false_positives: 16.0000\n",
            "Epoch 16/50\n",
            "37/37 [==============================] - 269s 7s/step - loss: 0.1788 - false_positives: 44.0000 - val_loss: 0.3751 - val_false_positives: 20.0000\n",
            "Epoch 17/50\n",
            "37/37 [==============================] - 269s 7s/step - loss: 0.1910 - false_positives: 57.0000 - val_loss: 0.4465 - val_false_positives: 26.0000\n",
            "Epoch 18/50\n",
            "37/37 [==============================] - 269s 7s/step - loss: 0.1855 - false_positives: 46.0000 - val_loss: 0.3906 - val_false_positives: 13.0000\n",
            "Epoch 19/50\n",
            "37/37 [==============================] - 269s 7s/step - loss: 0.1713 - false_positives: 51.0000 - val_loss: 0.4142 - val_false_positives: 30.0000\n",
            "Epoch 20/50\n",
            "37/37 [==============================] - 269s 7s/step - loss: 0.1575 - false_positives: 38.0000 - val_loss: 0.4062 - val_false_positives: 27.0000\n",
            "Epoch 21/50\n",
            "37/37 [==============================] - 269s 7s/step - loss: 0.1645 - false_positives: 39.0000 - val_loss: 0.4202 - val_false_positives: 23.0000\n",
            "Epoch 22/50\n",
            "37/37 [==============================] - 270s 7s/step - loss: 0.1511 - false_positives: 44.0000 - val_loss: 0.5067 - val_false_positives: 15.0000\n",
            "Epoch 23/50\n",
            "37/37 [==============================] - 269s 7s/step - loss: 0.1528 - false_positives: 40.0000 - val_loss: 0.4626 - val_false_positives: 13.0000\n",
            "Epoch 24/50\n",
            "37/37 [==============================] - 269s 7s/step - loss: 0.1605 - false_positives: 41.0000 - val_loss: 0.4461 - val_false_positives: 30.0000\n",
            "Epoch 25/50\n",
            "37/37 [==============================] - 271s 7s/step - loss: 0.1416 - false_positives: 40.0000 - val_loss: 0.4395 - val_false_positives: 24.0000\n",
            "Epoch 26/50\n",
            "37/37 [==============================] - 270s 7s/step - loss: 0.1490 - false_positives: 38.0000 - val_loss: 0.3874 - val_false_positives: 35.0000\n",
            "Epoch 27/50\n",
            "37/37 [==============================] - 269s 7s/step - loss: 0.1405 - false_positives: 40.0000 - val_loss: 0.5094 - val_false_positives: 32.0000\n",
            "Epoch 28/50\n",
            "37/37 [==============================] - 269s 7s/step - loss: 0.1480 - false_positives: 33.0000 - val_loss: 0.4307 - val_false_positives: 24.0000\n",
            "Epoch 29/50\n",
            "37/37 [==============================] - 269s 7s/step - loss: 0.1540 - false_positives: 37.0000 - val_loss: 0.5178 - val_false_positives: 28.0000\n",
            "Epoch 30/50\n",
            "37/37 [==============================] - 269s 7s/step - loss: 0.1436 - false_positives: 42.0000 - val_loss: 0.4517 - val_false_positives: 27.0000\n",
            "Epoch 31/50\n",
            "37/37 [==============================] - 269s 7s/step - loss: 0.1341 - false_positives: 33.0000 - val_loss: 0.5162 - val_false_positives: 30.0000\n",
            "Epoch 32/50\n",
            "37/37 [==============================] - 270s 7s/step - loss: 0.1368 - false_positives: 38.0000 - val_loss: 0.4368 - val_false_positives: 17.0000\n",
            "Epoch 33/50\n",
            "37/37 [==============================] - 270s 7s/step - loss: 0.1242 - false_positives: 26.0000 - val_loss: 0.4825 - val_false_positives: 25.0000\n",
            "Epoch 34/50\n",
            "37/37 [==============================] - 270s 7s/step - loss: 0.1558 - false_positives: 45.0000 - val_loss: 0.5591 - val_false_positives: 26.0000\n",
            "Epoch 35/50\n",
            "37/37 [==============================] - 271s 7s/step - loss: 0.1405 - false_positives: 42.0000 - val_loss: 0.5252 - val_false_positives: 21.0000\n",
            "Epoch 36/50\n",
            "37/37 [==============================] - 270s 7s/step - loss: 0.1420 - false_positives: 44.0000 - val_loss: 0.5085 - val_false_positives: 16.0000\n",
            "Epoch 37/50\n",
            "37/37 [==============================] - 270s 7s/step - loss: 0.1285 - false_positives: 38.0000 - val_loss: 0.4548 - val_false_positives: 16.0000\n",
            "Epoch 38/50\n",
            "37/37 [==============================] - 270s 7s/step - loss: 0.1162 - false_positives: 37.0000 - val_loss: 0.5427 - val_false_positives: 24.0000\n",
            "Epoch 39/50\n",
            "37/37 [==============================] - 272s 7s/step - loss: 0.1181 - false_positives: 39.0000 - val_loss: 0.5043 - val_false_positives: 18.0000\n",
            "Epoch 40/50\n",
            "37/37 [==============================] - 270s 7s/step - loss: 0.1251 - false_positives: 37.0000 - val_loss: 0.4700 - val_false_positives: 22.0000\n",
            "Epoch 41/50\n",
            "37/37 [==============================] - 270s 7s/step - loss: 0.1139 - false_positives: 29.0000 - val_loss: 0.4916 - val_false_positives: 17.0000\n",
            "Epoch 42/50\n",
            "37/37 [==============================] - 270s 7s/step - loss: 0.1110 - false_positives: 35.0000 - val_loss: 0.5264 - val_false_positives: 23.0000\n",
            "Epoch 43/50\n",
            "37/37 [==============================] - 270s 7s/step - loss: 0.1135 - false_positives: 32.0000 - val_loss: 0.6679 - val_false_positives: 19.0000\n",
            "Epoch 44/50\n",
            "37/37 [==============================] - 270s 7s/step - loss: 0.1186 - false_positives: 35.0000 - val_loss: 0.5459 - val_false_positives: 31.0000\n",
            "Epoch 45/50\n",
            "37/37 [==============================] - 269s 7s/step - loss: 0.1149 - false_positives: 40.0000 - val_loss: 0.5077 - val_false_positives: 23.0000\n",
            "Epoch 46/50\n",
            "37/37 [==============================] - 270s 7s/step - loss: 0.1111 - false_positives: 43.0000 - val_loss: 0.6155 - val_false_positives: 18.0000\n",
            "Epoch 47/50\n",
            "37/37 [==============================] - 270s 7s/step - loss: 0.1103 - false_positives: 34.0000 - val_loss: 0.5502 - val_false_positives: 19.0000\n",
            "Epoch 48/50\n",
            "37/37 [==============================] - 270s 7s/step - loss: 0.1061 - false_positives: 38.0000 - val_loss: 0.5680 - val_false_positives: 19.0000\n",
            "Epoch 49/50\n",
            "37/37 [==============================] - 269s 7s/step - loss: 0.1102 - false_positives: 28.0000 - val_loss: 0.4857 - val_false_positives: 21.0000\n",
            "Epoch 50/50\n",
            "37/37 [==============================] - 270s 7s/step - loss: 0.1053 - false_positives: 41.0000 - val_loss: 0.7809 - val_false_positives: 18.0000\n"
          ],
          "name": "stdout"
        }
      ]
    },
    {
      "cell_type": "code",
      "metadata": {
        "id": "9aE0uwEGwpwF",
        "outputId": "0b273a12-fe82-4d5b-c5f7-4f90d36d98db",
        "colab": {
          "base_uri": "https://localhost:8080/",
          "height": 279
        }
      },
      "source": [
        "plt.plot(history.history[\"false_positives\"], label=\"false_positives\")\n",
        "plt.plot(history.history[\"val_false_positives\"], label=\"val_false_positives\")\n",
        "plt.xlabel('Epoch')\n",
        "plt.ylabel('False Positive')\n",
        "plt.legend(loc='lower right')\n",
        "plt.show()"
      ],
      "execution_count": 15,
      "outputs": [
        {
          "output_type": "display_data",
          "data": {
            "image/png": "[encoded data removed]",
            "text/plain": [
              "<Figure size 432x288 with 1 Axes>"
            ]
          },
          "metadata": {
            "tags": [],
            "needs_background": "light"
          }
        }
      ]
    },
    {
      "cell_type": "code",
      "metadata": {
        "id": "IZ996NIkxQ28"
      },
      "source": [
        "y_predict = model.predict_classes(test_X)\n",
        "y_predict = y_predict.T[0].tolist()"
      ],
      "execution_count": 17,
      "outputs": []
    },
    {
      "cell_type": "code",
      "metadata": {
        "id": "tczP1y3XxkQ5",
        "outputId": "436f39c9-d441-4176-a469-abdb98276ad0",
        "colab": {
          "base_uri": "https://localhost:8080/"
        }
      },
      "source": [
        "true_positive = 0\n",
        "false_positive = 0\n",
        "true_negative = 0\n",
        "false_negative = 0\n",
        "for i, j in zip(y_predict, test_y):\n",
        "  if i and j:\n",
        "    true_positive += 1\n",
        "  elif i and not j:\n",
        "    false_positive += 1\n",
        "  elif not i and j:\n",
        "    false_negative += 1\n",
        "  else:\n",
        "    true_negative += 1\n",
        "true_positive /= len(y_predict)\n",
        "false_positive /= len(y_predict)\n",
        "false_negative /= len(y_predict)\n",
        "true_negative /= len(y_predict)\n",
        "print(true_positive, false_negative, false_positive, true_negative)"
      ],
      "execution_count": 18,
      "outputs": [
        {
          "output_type": "stream",
          "text": [
            "0.6160714285714286 0.17857142857142858 0.13392857142857142 0.07142857142857142\n"
          ],
          "name": "stdout"
        }
      ]
    }
  ]
}