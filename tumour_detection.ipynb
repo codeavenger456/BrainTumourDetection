{
  "nbformat": 4,
  "nbformat_minor": 0,
  "metadata": {
    "colab": {
      "name": "tumour_detection",
      "provenance": [],
      "authorship_tag": "ABX9TyPdTDv70C5fxd3KGeupMhWE",
      "include_colab_link": true
    },
    "kernelspec": {
      "name": "python3",
      "display_name": "Python 3"
    }
  },
  "cells": [
    {
      "cell_type": "markdown",
      "metadata": {
        "id": "view-in-github",
        "colab_type": "text"
      },
      "source": [
        "<a href=\"https://colab.research.google.com/github/codeavenger456/BrainTumourDetection/blob/main/tumour_detection.ipynb\" target=\"_parent\"><img src=\"https://colab.research.google.com/assets/colab-badge.svg\" alt=\"Open In Colab\"/></a>"
      ]
    },
    {
      "cell_type": "code",
      "metadata": {
        "id": "1XePbqg0emx4",
        "outputId": "7e3c07a7-97fb-4424-eaca-6af7c181f43f",
        "colab": {
          "base_uri": "https://localhost:8080/"
        }
      },
      "source": [
        "from google.colab import drive\n",
        "drive.mount('/content/drive/')"
      ],
      "execution_count": 1,
      "outputs": [
        {
          "output_type": "stream",
          "text": [
            "Mounted at /content/drive/\n"
          ],
          "name": "stdout"
        }
      ]
    },
    {
      "cell_type": "code",
      "metadata": {
        "id": "88hQ00wXe62i",
        "outputId": "e508adce-2c0d-4722-e099-165b6e63972a",
        "colab": {
          "base_uri": "https://localhost:8080/"
        }
      },
      "source": [
        "!ls \"/content/drive/My Drive/MAIS\""
      ],
      "execution_count": 2,
      "outputs": [
        {
          "output_type": "stream",
          "text": [
            "dataset1  dataset2  dataset3  modelCNN.h5\n"
          ],
          "name": "stdout"
        }
      ]
    },
    {
      "cell_type": "code",
      "metadata": {
        "id": "dukpzQOiUTKT"
      },
      "source": [
        "import os\n",
        "path = './drive/My Drive/MAIS/'\n",
        "entries = os.listdir('./drive/My Drive/MAIS/')\n",
        "images = []\n",
        "for i in entries:\n",
        "  if \"dataset\" in i:\n",
        "    for j in os.listdir(path + i):\n",
        "      for k in os.listdir(path + i + \"/\" + j):\n",
        "        images.append(path + i + \"/\" + j + \"/\" + k)"
      ],
      "execution_count": 3,
      "outputs": []
    },
    {
      "cell_type": "code",
      "metadata": {
        "id": "EKrNAFCicXFP"
      },
      "source": [
        "from sklearn.model_selection import train_test_split\n",
        "import numpy as np\n",
        "import random\n",
        "from tensorflow.keras import models, layers, optimizers\n",
        "import matplotlib.pyplot as plt\n",
        "import cv2"
      ],
      "execution_count": 4,
      "outputs": []
    },
    {
      "cell_type": "code",
      "metadata": {
        "id": "PwzykgkqcnVZ"
      },
      "source": [
        "nrows = 300  # height of image\n",
        "ncolumns = 300  # width of image\n",
        "channels = 1  # grayscale\n",
        "proportion = 0.8  # 80% of the dataset is training data"
      ],
      "execution_count": 5,
      "outputs": []
    },
    {
      "cell_type": "code",
      "metadata": {
        "id": "1BkwcDw5I1KF"
      },
      "source": [
        "def generate(original):\n",
        "  gen = list()\n",
        "  for i in range(-1, 2):\n",
        "    gen.append(cv2.flip(original, i))\n",
        "  gen.append(cv2.rotate(original, cv2.ROTATE_90_CLOCKWISE))\n",
        "  gen.append(cv2.rotate(original, cv2.ROTATE_180))\n",
        "  gen.append(cv2.rotate(original, cv2.ROTATE_90_COUNTERCLOCKWISE))\n",
        "  return gen"
      ],
      "execution_count": 6,
      "outputs": []
    },
    {
      "cell_type": "code",
      "metadata": {
        "id": "aoK0QJg_do5y"
      },
      "source": [
        "def read_and_resize_image(list_of_images, train):\n",
        "    # convert list of path to pair of array of grayscale and array of reponses\n",
        "    X = list()\n",
        "    y = list()\n",
        "    for image in list_of_images:\n",
        "        im = cv2.imread(image, cv2.IMREAD_GRAYSCALE)\n",
        "        height = im.shape[0]\n",
        "        if height > nrows:\n",
        "            # if original image height is bigger than we make it smaller\n",
        "            resize = cv2.resize(im, (ncolumns, nrows), interpolation=cv2.INTER_CUBIC) \n",
        "        else:\n",
        "            # else we make it bigger\n",
        "            resize = cv2.resize(im, (ncolumns, nrows), interpolation=cv2.INTER_AREA)\n",
        "        X.append(resize)\n",
        "        if 'yes' in image:\n",
        "            y.append(1)\n",
        "        else:\n",
        "          y.append(0)\n",
        "          if train:\n",
        "            augmented = generate(resize)\n",
        "            for i in range(len(augmented)):\n",
        "              X.append(augmented[i])\n",
        "              y.append(0)\n",
        "    return X, y"
      ],
      "execution_count": 7,
      "outputs": []
    },
    {
      "cell_type": "code",
      "metadata": {
        "id": "xK9FzwQidr67"
      },
      "source": [
        "random.shuffle(images)\n",
        "images_train = images[:int(len(images) * proportion)]\n",
        "images_test = images[int(len(images) * proportion):]"
      ],
      "execution_count": 8,
      "outputs": []
    },
    {
      "cell_type": "code",
      "metadata": {
        "id": "WEpnk_AteGhX"
      },
      "source": [
        "train_X, train_y = read_and_resize_image(images_train, True)\n",
        "X_train, X_val, y_train, y_val = train_test_split(train_X, train_y, test_size=0.20, random_state=2)# separate 20% of training data to validation set\n",
        "\n",
        "X_train = np.expand_dims(X_train, axis=-1)\n",
        "y_train = np.asarray(y_train)\n",
        "X_val = np.expand_dims(X_val, axis=-1)\n",
        "y_val = np.asarray(y_val)\n",
        "np.reshape(X_train, (len(X_train), nrows, ncolumns, 1))\n",
        "\n",
        "test_X, test_y = read_and_resize_image(images_test, False)\n",
        "test_X = np.array(test_X).astype(np.float32)\n",
        "test_X = np.expand_dims(test_X, axis=-1)"
      ],
      "execution_count": 9,
      "outputs": []
    },
    {
      "cell_type": "code",
      "metadata": {
        "id": "fDtswPmbjSBl",
        "outputId": "306eb29f-8e28-4b09-b5d4-25e37191abd5",
        "colab": {
          "base_uri": "https://localhost:8080/"
        }
      },
      "source": [
        "input_shape = X_train.shape[1:]\n",
        "model = models.Sequential()\n",
        "model.add(layers.Conv2D(32, (3, 3), activation='relu', input_shape=input_shape))\n",
        "model.add(layers.MaxPooling2D((2, 2)))\n",
        "model.add(layers.Conv2D(64, (3, 3), activation='relu'))\n",
        "model.add(layers.MaxPooling2D((2, 2)))\n",
        "model.add(layers.Conv2D(128, (3, 3), activation='relu'))\n",
        "model.add(layers.MaxPooling2D((2, 2)))\n",
        "model.add(layers.Conv2D(128, (3, 3), activation='relu'))\n",
        "model.add(layers.MaxPooling2D((2, 2)))\n",
        "model.add(layers.Flatten())\n",
        "model.add(layers.Dropout(0.5))\n",
        "model.add(layers.Dense(512, activation='relu'))\n",
        "model.add(layers.Dense(1, activation='sigmoid'))\n",
        "model.summary()"
      ],
      "execution_count": 10,
      "outputs": [
        {
          "output_type": "stream",
          "text": [
            "Model: \"sequential\"\n",
            "_________________________________________________________________\n",
            "Layer (type)                 Output Shape              Param #   \n",
            "=================================================================\n",
            "conv2d (Conv2D)              (None, 298, 298, 32)      320       \n",
            "_________________________________________________________________\n",
            "max_pooling2d (MaxPooling2D) (None, 149, 149, 32)      0         \n",
            "_________________________________________________________________\n",
            "conv2d_1 (Conv2D)            (None, 147, 147, 64)      18496     \n",
            "_________________________________________________________________\n",
            "max_pooling2d_1 (MaxPooling2 (None, 73, 73, 64)        0         \n",
            "_________________________________________________________________\n",
            "conv2d_2 (Conv2D)            (None, 71, 71, 128)       73856     \n",
            "_________________________________________________________________\n",
            "max_pooling2d_2 (MaxPooling2 (None, 35, 35, 128)       0         \n",
            "_________________________________________________________________\n",
            "conv2d_3 (Conv2D)            (None, 33, 33, 128)       147584    \n",
            "_________________________________________________________________\n",
            "max_pooling2d_3 (MaxPooling2 (None, 16, 16, 128)       0         \n",
            "_________________________________________________________________\n",
            "flatten (Flatten)            (None, 32768)             0         \n",
            "_________________________________________________________________\n",
            "dropout (Dropout)            (None, 32768)             0         \n",
            "_________________________________________________________________\n",
            "dense (Dense)                (None, 512)               16777728  \n",
            "_________________________________________________________________\n",
            "dense_1 (Dense)              (None, 1)                 513       \n",
            "=================================================================\n",
            "Total params: 17,018,497\n",
            "Trainable params: 17,018,497\n",
            "Non-trainable params: 0\n",
            "_________________________________________________________________\n"
          ],
          "name": "stdout"
        }
      ]
    },
    {
      "cell_type": "code",
      "metadata": {
        "id": "WhhbZlIRja0O",
        "outputId": "b409925f-facf-49de-a2d3-bd702400c4e5",
        "colab": {
          "base_uri": "https://localhost:8080/"
        }
      },
      "source": [
        "model.compile(loss='binary_crossentropy', optimizer=optimizers.Adam(),\n",
        "              metrics=['accuracy'])\n",
        "history = model.fit(X_train, y_train, epochs=5,\n",
        "                    validation_data=(X_val, y_val))"
      ],
      "execution_count": 11,
      "outputs": [
        {
          "output_type": "stream",
          "text": [
            "Epoch 1/5\n",
            "44/44 [==============================] - 252s 6s/step - loss: 5.7990 - accuracy: 0.6971 - val_loss: 0.5824 - val_accuracy: 0.6800\n",
            "Epoch 2/5\n",
            "44/44 [==============================] - 249s 6s/step - loss: 0.5079 - accuracy: 0.7779 - val_loss: 0.5298 - val_accuracy: 0.7571\n",
            "Epoch 3/5\n",
            "44/44 [==============================] - 246s 6s/step - loss: 0.4398 - accuracy: 0.8129 - val_loss: 0.4381 - val_accuracy: 0.8171\n",
            "Epoch 4/5\n",
            "44/44 [==============================] - 251s 6s/step - loss: 0.3820 - accuracy: 0.8221 - val_loss: 0.4265 - val_accuracy: 0.8229\n",
            "Epoch 5/5\n",
            "44/44 [==============================] - 248s 6s/step - loss: 0.3321 - accuracy: 0.8507 - val_loss: 0.4045 - val_accuracy: 0.8086\n"
          ],
          "name": "stdout"
        }
      ]
    },
    {
      "cell_type": "code",
      "metadata": {
        "id": "GTsov2I7rzvf",
        "outputId": "f74e749e-1347-427e-c533-d7dd139e6e35",
        "colab": {
          "base_uri": "https://localhost:8080/",
          "height": 279
        }
      },
      "source": [
        "plt.plot(history.history[\"accuracy\"], label=\"accuracy\")\n",
        "plt.plot(history.history[\"val_accuracy\"], label=\"val_accuracy\")\n",
        "plt.xlabel('Epoch')\n",
        "plt.ylabel('Accuracy')\n",
        "plt.legend(loc='lower right')\n",
        "plt.show()"
      ],
      "execution_count": 12,
      "outputs": [
        {
          "output_type": "display_data",
          "data": {
            "image/png": "[encoded data removed]",
            "text/plain": [
              "<Figure size 432x288 with 1 Axes>"
            ]
          },
          "metadata": {
            "tags": [],
            "needs_background": "light"
          }
        }
      ]
    },
    {
      "cell_type": "code",
      "metadata": {
        "id": "MFgF35qrsazB"
      },
      "source": [
        "y_predict = model.predict_classes(test_X)\n",
        "y_predict = y_predict.T[0].tolist()"
      ],
      "execution_count": 14,
      "outputs": []
    },
    {
      "cell_type": "code",
      "metadata": {
        "id": "Gcm--ZhWsmP-",
        "outputId": "8422775b-d9e2-4b02-811d-6f2269492b7d",
        "colab": {
          "base_uri": "https://localhost:8080/"
        }
      },
      "source": [
        "true_positive = 0\n",
        "false_positive = 0\n",
        "true_negative = 0\n",
        "false_negative = 0\n",
        "for i, j in zip(y_predict, test_y):\n",
        "  if i and j:\n",
        "    true_positive += 1\n",
        "  elif i and not j:\n",
        "    false_positive += 1\n",
        "  elif not i and j:\n",
        "    false_negative += 1\n",
        "  else:\n",
        "    true_negative += 1\n",
        "true_positive /= len(y_predict)\n",
        "false_positive /= len(y_predict)\n",
        "false_negative /= len(y_predict)\n",
        "true_negative /= len(y_predict)\n",
        "print(true_positive, false_negative, false_positive, true_negative)"
      ],
      "execution_count": 15,
      "outputs": [
        {
          "output_type": "stream",
          "text": [
            "0.5848214285714286 0.21428571428571427 0.10267857142857142 0.09821428571428571\n"
          ],
          "name": "stdout"
        }
      ]
    },
    {
      "cell_type": "code",
      "metadata": {
        "id": "yoQqanFoLVgS"
      },
      "source": [
        "model.save_weights(\"/content/drive/My Drive/MAIS/modelCNN.h5\")"
      ],
      "execution_count": 17,
      "outputs": []
    },
    {
      "cell_type": "code",
      "metadata": {
        "id": "tqGjm7w5lAfp",
        "outputId": "301fb1c7-049f-4e60-f7dc-0ba6d1503b99",
        "colab": {
          "base_uri": "https://localhost:8080/"
        }
      },
      "source": [
        "import tensorflow as tf\n",
        "model.compile(loss='binary_crossentropy', optimizer=optimizers.Adam(),\n",
        "              metrics=[tf.keras.metrics.FalsePositives()])\n",
        "history = model.fit(X_train, y_train, epochs=20,\n",
        "                    validation_data=(X_val, y_val))"
      ],
      "execution_count": null,
      "outputs": [
        {
          "output_type": "stream",
          "text": [
            "Epoch 1/20\n",
            "10/44 [=====>........................] - ETA: 2:54 - loss: 0.4738 - false_positives: 29.0000"
          ],
          "name": "stdout"
        }
      ]
    },
    {
      "cell_type": "code",
      "metadata": {
        "id": "9aE0uwEGwpwF",
        "outputId": "3afb1d39-29c2-4a17-ef21-661cca097fa4",
        "colab": {
          "base_uri": "https://localhost:8080/",
          "height": 280
        }
      },
      "source": [
        "plt.plot(history.history[\"false_positives\"], label=\"false_positives\")\n",
        "plt.plot(history.history[\"val_false_positives\"], label=\"val_false_positives\")\n",
        "plt.xlabel('Epoch')\n",
        "plt.ylabel('False Positive')\n",
        "plt.legend(loc='lower right')\n",
        "plt.show()"
      ],
      "execution_count": 59,
      "outputs": [
        {
          "output_type": "display_data",
          "data": {
            "image/png": "[encoded data removed]",
            "text/plain": [
              "<Figure size 432x288 with 1 Axes>"
            ]
          },
          "metadata": {
            "tags": [],
            "needs_background": "light"
          }
        }
      ]
    },
    {
      "cell_type": "code",
      "metadata": {
        "id": "IZ996NIkxQ28"
      },
      "source": [
        "y_predict = model.predict_classes(test_X)\n",
        "y_predict = y_predict.T[0].tolist()"
      ],
      "execution_count": 60,
      "outputs": []
    },
    {
      "cell_type": "code",
      "metadata": {
        "id": "tczP1y3XxkQ5",
        "outputId": "bb61be29-cc10-4f05-b229-9eef36fa026b",
        "colab": {
          "base_uri": "https://localhost:8080/"
        }
      },
      "source": [
        "true_positive = 0\n",
        "false_positive = 0\n",
        "true_negative = 0\n",
        "false_negative = 0\n",
        "for i, j in zip(y_predict, test_y):\n",
        "  if i and j:\n",
        "    true_positive += 1\n",
        "  elif i and not j:\n",
        "    false_positive += 1\n",
        "  elif not i and j:\n",
        "    false_negative += 1\n",
        "  else:\n",
        "    true_negative += 1\n",
        "true_positive /= len(y_predict)\n",
        "false_positive /= len(y_predict)\n",
        "false_negative /= len(y_predict)\n",
        "true_negative /= len(y_predict)\n",
        "print(true_positive, false_negative, false_positive, true_negative)"
      ],
      "execution_count": 61,
      "outputs": [
        {
          "output_type": "stream",
          "text": [
            "0.6919642857142857 0.15625 0.12053571428571429 0.03125\n"
          ],
          "name": "stdout"
        }
      ]
    }
  ]
}