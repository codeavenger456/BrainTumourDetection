{
  "nbformat": 4,
  "nbformat_minor": 0,
  "metadata": {
    "colab": {
      "name": "tumour_detection",
      "provenance": [],
      "authorship_tag": "ABX9TyNPc95Nm/6ohXwPxK07mb2x",
      "include_colab_link": true
    },
    "kernelspec": {
      "name": "python3",
      "display_name": "Python 3"
    }
  },
  "cells": [
    {
      "cell_type": "markdown",
      "metadata": {
        "id": "view-in-github",
        "colab_type": "text"
      },
      "source": [
        "<a href=\"https://colab.research.google.com/github/codeavenger456/BrainTumourDetection/blob/main/tumour_detection.ipynb\" target=\"_parent\"><img src=\"https://colab.research.google.com/assets/colab-badge.svg\" alt=\"Open In Colab\"/></a>"
      ]
    },
    {
      "cell_type": "code",
      "metadata": {
        "id": "1XePbqg0emx4",
        "outputId": "76e3eec1-90b4-4c69-ddfe-1c32c0d4adea",
        "colab": {
          "base_uri": "https://localhost:8080/"
        }
      },
      "source": [
        "from google.colab import drive\n",
        "drive.mount('/content/drive/')"
      ],
      "execution_count": 1,
      "outputs": [
        {
          "output_type": "stream",
          "text": [
            "Mounted at /content/drive/\n"
          ],
          "name": "stdout"
        }
      ]
    },
    {
      "cell_type": "code",
      "metadata": {
        "id": "88hQ00wXe62i",
        "outputId": "bdafdfb0-a33e-43bc-d4e8-ef2fd7b8801e",
        "colab": {
          "base_uri": "https://localhost:8080/"
        }
      },
      "source": [
        "!ls \"/content/drive/My Drive/MAIS\""
      ],
      "execution_count": 9,
      "outputs": [
        {
          "output_type": "stream",
          "text": [
            "dataset1  dataset2  dataset3\n"
          ],
          "name": "stdout"
        }
      ]
    },
    {
      "cell_type": "code",
      "metadata": {
        "id": "dukpzQOiUTKT"
      },
      "source": [
        "import os\n",
        "path = './drive/My Drive/MAIS/'\n",
        "entries = os.listdir('./drive/My Drive/MAIS/')\n",
        "images = []\n",
        "for i in entries:\n",
        "  if \"dataset\" in i:\n",
        "    for j in os.listdir(path + i):\n",
        "      for k in os.listdir(path + i + \"/\" + j):\n",
        "        images.append(path + i + \"/\" + j + \"/\" + k)"
      ],
      "execution_count": 10,
      "outputs": []
    },
    {
      "cell_type": "code",
      "metadata": {
        "id": "EKrNAFCicXFP"
      },
      "source": [
        "from sklearn.model_selection import train_test_split\n",
        "import numpy as np\n",
        "import random\n",
        "from tensorflow.keras import models, layers, optimizers\n",
        "import matplotlib.pyplot as plt\n",
        "import cv2"
      ],
      "execution_count": 4,
      "outputs": []
    },
    {
      "cell_type": "code",
      "metadata": {
        "id": "PwzykgkqcnVZ"
      },
      "source": [
        "nrows = 400  # height of image\n",
        "ncolumns = 300  # width of image\n",
        "channels = 1  # grayscale\n",
        "proportion = 0.8  # 80% of the dataset is training data"
      ],
      "execution_count": 11,
      "outputs": []
    },
    {
      "cell_type": "code",
      "metadata": {
        "id": "aoK0QJg_do5y"
      },
      "source": [
        "def read_and_resize_image(list_of_images):\n",
        "    # convert list of path to pair of array of grayscale and array of reponses\n",
        "    X = list()\n",
        "    y = list()\n",
        "    for image in list_of_images:\n",
        "        im = cv2.imread(image, cv2.IMREAD_GRAYSCALE)\n",
        "        height = im.shape[0]\n",
        "        if height > nrows:\n",
        "            # if original image height is bigger than we make it smaller\n",
        "            # X.append(cv2.resize(im, (nrows, ncolumns), interpolation=cv2.INTER_CUBIC))\n",
        "            X.append(cv2.resize(im, (ncolumns, nrows), interpolation=cv2.INTER_CUBIC))\n",
        "        else:\n",
        "            # else we make it bigger\n",
        "            # X.append(cv2.resize(im, (nrows, ncolumns), interpolation=cv2.INTER_AREA))\n",
        "            X.append(cv2.resize(im, (ncolumns, nrows), interpolation=cv2.INTER_AREA))\n",
        "        if 'yes' in image:\n",
        "            y.append(1)\n",
        "        else:\n",
        "            y.append(0)\n",
        "    return X, y"
      ],
      "execution_count": 12,
      "outputs": []
    },
    {
      "cell_type": "code",
      "metadata": {
        "id": "xK9FzwQidr67"
      },
      "source": [
        "random.shuffle(images)\n",
        "images_train = images[:int(len(images) * proportion)]\n",
        "images_test = images[int(len(images) * proportion):]"
      ],
      "execution_count": 13,
      "outputs": []
    },
    {
      "cell_type": "code",
      "metadata": {
        "id": "WEpnk_AteGhX"
      },
      "source": [
        "train_X, train_y = read_and_resize_image(images_train)\n",
        "X_train, X_val, y_train, y_val = train_test_split(train_X, train_y, test_size=0.20, random_state=2)# separate 20% of training data to validation set\n",
        "\n",
        "X_train = np.expand_dims(X_train, axis=-1)\n",
        "y_train = np.asarray(y_train)\n",
        "y_val = np.asarray(y_val)\n",
        "np.reshape(X_train, (len(X_train), nrows, ncolumns, 1))\n",
        "\n",
        "test_X, test_y = read_and_resize_image(images_test)\n",
        "test_X = np.array(test_X).astype(np.float32)\n",
        "test_X = np.expand_dims(test_X, axis=-1)\n",
        "X_val = np.expand_dims(X_val, axis=-1)"
      ],
      "execution_count": 14,
      "outputs": []
    },
    {
      "cell_type": "code",
      "metadata": {
        "id": "fDtswPmbjSBl",
        "outputId": "e794d296-3c5d-4fbe-a3ea-811a9db18c89",
        "colab": {
          "base_uri": "https://localhost:8080/"
        }
      },
      "source": [
        "input_shape = X_train.shape[1:]\n",
        "model = models.Sequential()\n",
        "model.add(layers.Conv2D(32, (3, 3), activation='relu', input_shape=input_shape))\n",
        "model.add(layers.MaxPooling2D((2, 2)))\n",
        "model.add(layers.Conv2D(64, (3, 3), activation='relu'))\n",
        "model.add(layers.MaxPooling2D((2, 2)))\n",
        "model.add(layers.Conv2D(128, (3, 3), activation='relu'))\n",
        "model.add(layers.MaxPooling2D((2, 2)))\n",
        "model.add(layers.Conv2D(128, (3, 3), activation='relu'))\n",
        "model.add(layers.MaxPooling2D((2, 2)))\n",
        "model.add(layers.Flatten())\n",
        "model.add(layers.Dropout(0.5))\n",
        "model.add(layers.Dense(512, activation='relu'))\n",
        "model.add(layers.Dense(1, activation='sigmoid'))\n",
        "model.summary()"
      ],
      "execution_count": 15,
      "outputs": [
        {
          "output_type": "stream",
          "text": [
            "Model: \"sequential\"\n",
            "_________________________________________________________________\n",
            "Layer (type)                 Output Shape              Param #   \n",
            "=================================================================\n",
            "conv2d (Conv2D)              (None, 398, 298, 32)      320       \n",
            "_________________________________________________________________\n",
            "max_pooling2d (MaxPooling2D) (None, 199, 149, 32)      0         \n",
            "_________________________________________________________________\n",
            "conv2d_1 (Conv2D)            (None, 197, 147, 64)      18496     \n",
            "_________________________________________________________________\n",
            "max_pooling2d_1 (MaxPooling2 (None, 98, 73, 64)        0         \n",
            "_________________________________________________________________\n",
            "conv2d_2 (Conv2D)            (None, 96, 71, 128)       73856     \n",
            "_________________________________________________________________\n",
            "max_pooling2d_2 (MaxPooling2 (None, 48, 35, 128)       0         \n",
            "_________________________________________________________________\n",
            "conv2d_3 (Conv2D)            (None, 46, 33, 128)       147584    \n",
            "_________________________________________________________________\n",
            "max_pooling2d_3 (MaxPooling2 (None, 23, 16, 128)       0         \n",
            "_________________________________________________________________\n",
            "flatten (Flatten)            (None, 47104)             0         \n",
            "_________________________________________________________________\n",
            "dropout (Dropout)            (None, 47104)             0         \n",
            "_________________________________________________________________\n",
            "dense (Dense)                (None, 512)               24117760  \n",
            "_________________________________________________________________\n",
            "dense_1 (Dense)              (None, 1)                 513       \n",
            "=================================================================\n",
            "Total params: 24,358,529\n",
            "Trainable params: 24,358,529\n",
            "Non-trainable params: 0\n",
            "_________________________________________________________________\n"
          ],
          "name": "stdout"
        }
      ]
    },
    {
      "cell_type": "code",
      "metadata": {
        "id": "WhhbZlIRja0O",
        "outputId": "bc9fcca7-0e69-4331-a902-97190efe69a7",
        "colab": {
          "base_uri": "https://localhost:8080/"
        }
      },
      "source": [
        "model.compile(loss='binary_crossentropy', optimizer=optimizers.RMSprop(),\n",
        "              metrics=['accuracy'])\n",
        "history = model.fit(X_train, y_train, epochs=15,\n",
        "                    validation_data=(X_val, y_val))"
      ],
      "execution_count": 17,
      "outputs": [
        {
          "output_type": "stream",
          "text": [
            "Epoch 1/15\n",
            "23/23 [==============================] - 168s 7s/step - loss: 64.0588 - accuracy: 0.7588 - val_loss: 0.4914 - val_accuracy: 0.7821\n",
            "Epoch 2/15\n",
            "23/23 [==============================] - 164s 7s/step - loss: 0.4678 - accuracy: 0.8247 - val_loss: 0.4745 - val_accuracy: 0.7709\n",
            "Epoch 3/15\n",
            "23/23 [==============================] - 163s 7s/step - loss: 0.5341 - accuracy: 0.7938 - val_loss: 0.5036 - val_accuracy: 0.8156\n",
            "Epoch 4/15\n",
            "23/23 [==============================] - 167s 7s/step - loss: 0.6580 - accuracy: 0.7770 - val_loss: 0.5246 - val_accuracy: 0.8101\n",
            "Epoch 5/15\n",
            "23/23 [==============================] - 163s 7s/step - loss: 0.4058 - accuracy: 0.8345 - val_loss: 1.3896 - val_accuracy: 0.8101\n",
            "Epoch 6/15\n",
            "23/23 [==============================] - 163s 7s/step - loss: 1.0045 - accuracy: 0.8177 - val_loss: 0.5207 - val_accuracy: 0.8101\n",
            "Epoch 7/15\n",
            "23/23 [==============================] - 162s 7s/step - loss: 0.4709 - accuracy: 0.8457 - val_loss: 0.4598 - val_accuracy: 0.7877\n",
            "Epoch 8/15\n",
            "23/23 [==============================] - 166s 7s/step - loss: 0.4186 - accuracy: 0.8345 - val_loss: 0.4658 - val_accuracy: 0.7933\n",
            "Epoch 9/15\n",
            "23/23 [==============================] - 162s 7s/step - loss: 0.4281 - accuracy: 0.8373 - val_loss: 0.5866 - val_accuracy: 0.6257\n",
            "Epoch 10/15\n",
            "23/23 [==============================] - 163s 7s/step - loss: 0.4051 - accuracy: 0.8317 - val_loss: 0.4572 - val_accuracy: 0.7765\n",
            "Epoch 11/15\n",
            "23/23 [==============================] - 166s 7s/step - loss: 0.4577 - accuracy: 0.8401 - val_loss: 0.5729 - val_accuracy: 0.7598\n",
            "Epoch 12/15\n",
            "23/23 [==============================] - 163s 7s/step - loss: 0.4006 - accuracy: 0.8527 - val_loss: 0.5461 - val_accuracy: 0.7654\n",
            "Epoch 13/15\n",
            "23/23 [==============================] - 163s 7s/step - loss: 0.3246 - accuracy: 0.8654 - val_loss: 0.4801 - val_accuracy: 0.7598\n",
            "Epoch 14/15\n",
            "23/23 [==============================] - 163s 7s/step - loss: 0.3255 - accuracy: 0.8471 - val_loss: 0.5348 - val_accuracy: 0.7598\n",
            "Epoch 15/15\n",
            "23/23 [==============================] - 166s 7s/step - loss: 0.3333 - accuracy: 0.8612 - val_loss: 1.0385 - val_accuracy: 0.7933\n"
          ],
          "name": "stdout"
        }
      ]
    },
    {
      "cell_type": "code",
      "metadata": {
        "id": "GTsov2I7rzvf",
        "outputId": "137f3445-efc9-42e4-da88-2f2158faa00d",
        "colab": {
          "base_uri": "https://localhost:8080/",
          "height": 279
        }
      },
      "source": [
        "plt.plot(history.history[\"accuracy\"], label=\"accuracy\")\n",
        "plt.plot(history.history[\"val_accuracy\"], label=\"val_accuracy\")\n",
        "plt.xlabel('Epoch')\n",
        "plt.ylabel('Accuracy')\n",
        "plt.legend(loc='lower right')\n",
        "plt.show()"
      ],
      "execution_count": 18,
      "outputs": [
        {
          "output_type": "display_data",
          "data": {
            "image/png": "[encoded data removed]",
            "text/plain": [
              "<Figure size 432x288 with 1 Axes>"
            ]
          },
          "metadata": {
            "tags": [],
            "needs_background": "light"
          }
        }
      ]
    },
    {
      "cell_type": "code",
      "metadata": {
        "id": "MFgF35qrsazB"
      },
      "source": [
        "y_predict = model.predict_classes(test_X)\n",
        "y_predict = y_predict.T[0].tolist()"
      ],
      "execution_count": 24,
      "outputs": []
    },
    {
      "cell_type": "code",
      "metadata": {
        "id": "Gcm--ZhWsmP-",
        "outputId": "4a08f7e7-fc46-495f-8901-8e681443aff7",
        "colab": {
          "base_uri": "https://localhost:8080/"
        }
      },
      "source": [
        "true_positive = 0\n",
        "false_positive = 0\n",
        "true_negative = 0\n",
        "false_negative = 0\n",
        "for i, j in zip(y_predict, test_y):\n",
        "  if i and j:\n",
        "    true_positive += 1\n",
        "  elif i and not j:\n",
        "    false_positive += 1\n",
        "  elif not i and j:\n",
        "    false_negative += 1\n",
        "  else:\n",
        "    true_negative += 1\n",
        "true_positive /= len(y_predict)\n",
        "false_positive /= len(y_predict)\n",
        "false_negative /= len(y_predict)\n",
        "true_negative /= len(y_predict)\n",
        "print(true_positive, false_negative, false_positive, true_negative)"
      ],
      "execution_count": 23,
      "outputs": [
        {
          "output_type": "stream",
          "text": [
            "0.8125 0.03571428571428571 0.13839285714285715 0.013392857142857142\n"
          ],
          "name": "stdout"
        }
      ]
    },
    {
      "cell_type": "code",
      "metadata": {
        "id": "tqGjm7w5lAfp",
        "outputId": "9e9e5812-cb18-44a5-9483-cef70bc0189c",
        "colab": {
          "base_uri": "https://localhost:8080/"
        }
      },
      "source": [
        "import tensorflow as tf\n",
        "model.compile(loss='binary_crossentropy', optimizer=optimizers.RMSprop(),\n",
        "              metrics=[tf.keras.metrics.FalsePositives()])\n",
        "history = model.fit(X_train, y_train, epochs=15,\n",
        "                    validation_data=(X_val, y_val))"
      ],
      "execution_count": 16,
      "outputs": [
        {
          "output_type": "stream",
          "text": [
            "Epoch 1/15\n",
            "23/23 [==============================] - 163s 7s/step - loss: 0.3975 - false_positives: 78.0000 - val_loss: 0.4887 - val_false_positives: 31.0000\n",
            "Epoch 2/15\n",
            "23/23 [==============================] - 163s 7s/step - loss: 0.3079 - false_positives: 81.0000 - val_loss: 0.5041 - val_false_positives: 29.0000\n",
            "Epoch 3/15\n",
            "23/23 [==============================] - 163s 7s/step - loss: 0.3090 - false_positives: 75.0000 - val_loss: 0.4688 - val_false_positives: 22.0000\n",
            "Epoch 4/15\n",
            "23/23 [==============================] - 163s 7s/step - loss: 0.3113 - false_positives: 74.0000 - val_loss: 0.4956 - val_false_positives: 32.0000\n",
            "Epoch 5/15\n",
            "23/23 [==============================] - 163s 7s/step - loss: 0.2989 - false_positives: 74.0000 - val_loss: 0.6046 - val_false_positives: 33.0000\n",
            "Epoch 6/15\n",
            "23/23 [==============================] - 163s 7s/step - loss: 0.2897 - false_positives: 76.0000 - val_loss: 0.6322 - val_false_positives: 31.0000\n",
            "Epoch 7/15\n",
            "23/23 [==============================] - 163s 7s/step - loss: 0.2959 - false_positives: 70.0000 - val_loss: 0.6344 - val_false_positives: 30.0000\n",
            "Epoch 8/15\n",
            "23/23 [==============================] - 163s 7s/step - loss: 0.2868 - false_positives: 72.0000 - val_loss: 0.4575 - val_false_positives: 25.0000\n",
            "Epoch 9/15\n",
            "23/23 [==============================] - 162s 7s/step - loss: 0.2678 - false_positives: 69.0000 - val_loss: 0.5796 - val_false_positives: 32.0000\n",
            "Epoch 10/15\n",
            "23/23 [==============================] - 163s 7s/step - loss: 0.2846 - false_positives: 68.0000 - val_loss: 0.4612 - val_false_positives: 24.0000\n",
            "Epoch 11/15\n",
            "23/23 [==============================] - 163s 7s/step - loss: 0.2686 - false_positives: 60.0000 - val_loss: 0.5027 - val_false_positives: 22.0000\n",
            "Epoch 12/15\n",
            "23/23 [==============================] - 163s 7s/step - loss: 0.2633 - false_positives: 57.0000 - val_loss: 0.5605 - val_false_positives: 32.0000\n",
            "Epoch 13/15\n",
            "23/23 [==============================] - 163s 7s/step - loss: 0.2787 - false_positives: 67.0000 - val_loss: 0.5430 - val_false_positives: 24.0000\n",
            "Epoch 14/15\n",
            "23/23 [==============================] - 163s 7s/step - loss: 0.2754 - false_positives: 60.0000 - val_loss: 0.7602 - val_false_positives: 33.0000\n",
            "Epoch 15/15\n",
            "23/23 [==============================] - 163s 7s/step - loss: 0.2937 - false_positives: 62.0000 - val_loss: 0.5293 - val_false_positives: 30.0000\n"
          ],
          "name": "stdout"
        }
      ]
    },
    {
      "cell_type": "code",
      "metadata": {
        "id": "9aE0uwEGwpwF",
        "outputId": "2517d3de-8ac7-45ea-fa63-23a01276e2c5",
        "colab": {
          "base_uri": "https://localhost:8080/",
          "height": 279
        }
      },
      "source": [
        "plt.plot(history.history[\"false_positives\"], label=\"false_positives\")\n",
        "plt.plot(history.history[\"val_false_positives\"], label=\"val_false_positives\")\n",
        "plt.xlabel('Epoch')\n",
        "plt.ylabel('False Positive')\n",
        "plt.legend(loc='lower right')\n",
        "plt.show()"
      ],
      "execution_count": 18,
      "outputs": [
        {
          "output_type": "display_data",
          "data": {
            "image/png": "[encoded data removed]",
            "text/plain": [
              "<Figure size 432x288 with 1 Axes>"
            ]
          },
          "metadata": {
            "tags": [],
            "needs_background": "light"
          }
        }
      ]
    },
    {
      "cell_type": "code",
      "metadata": {
        "id": "IZ996NIkxQ28"
      },
      "source": [
        "y_predict = model.predict(test_X)\n",
        "y_predict_classes = [1  if i > 0.5 else 0 for i in y_predict.T[0].tolist()]"
      ],
      "execution_count": 20,
      "outputs": []
    },
    {
      "cell_type": "code",
      "metadata": {
        "id": "tczP1y3XxkQ5",
        "outputId": "8b72c30b-058e-4c44-a454-ccc078ad92b9",
        "colab": {
          "base_uri": "https://localhost:8080/"
        }
      },
      "source": [
        "true_positive = 0\n",
        "false_positive = 0\n",
        "true_negative = 0\n",
        "false_negative = 0\n",
        "for i, j in zip(y_predict_classes, test_y):\n",
        "  if i and j:\n",
        "    true_positive += 1\n",
        "  elif i and not j:\n",
        "    false_positive += 1\n",
        "  elif not i and j:\n",
        "    false_negative += 1\n",
        "  else:\n",
        "    true_negative += 1\n",
        "true_positive /= len(y_predict_classes)\n",
        "false_positive /= len(y_predict_classes)\n",
        "false_negative /= len(y_predict_classes)\n",
        "true_negative /= len(y_predict_classes)\n",
        "print(true_positive, false_negative, false_positive, true_negative)"
      ],
      "execution_count": 21,
      "outputs": [
        {
          "output_type": "stream",
          "text": [
            "0.7678571428571429 0.0625 0.14732142857142858 0.022321428571428572\n"
          ],
          "name": "stdout"
        }
      ]
    }
  ]
}